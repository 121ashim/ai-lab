{
  "nbformat": 4,
  "nbformat_minor": 0,
  "metadata": {
    "colab": {
      "provenance": []
    },
    "kernelspec": {
      "name": "python3",
      "display_name": "Python 3"
    },
    "language_info": {
      "name": "python"
    }
  },
  "cells": [
    {
      "cell_type": "code",
      "execution_count": 2,
      "metadata": {
        "colab": {
          "base_uri": "https://localhost:8080/"
        },
        "id": "EdhL5a_KBTda",
        "outputId": "834fe5fe-805d-42dd-9ab7-c1953fd71b48"
      },
      "outputs": [
        {
          "output_type": "stream",
          "name": "stdout",
          "text": [
            "Heuristic Value: 1\n"
          ]
        }
      ],
      "source": [
        "def manhattan_distance(state, goal):\n",
        "    distance = 0\n",
        "    for i in range(1, 9):\n",
        "        current_index = state.index(i)\n",
        "        goal_index = goal.index(i)\n",
        "        current_row, current_col = divmod(current_index, 3)\n",
        "        goal_row, goal_col = divmod(goal_index, 3)\n",
        "        distance += abs(current_row - goal_row) + abs(current_col - goal_col)\n",
        "    return distance\n",
        "\n",
        "# Define the initial and goal states\n",
        "initial_state = [1, 2, 3, 4, 5, 6, 7, 0, 8]\n",
        "goal_state = [1, 2, 3, 4, 5, 6, 7, 8, 0]\n",
        "\n",
        "# Calculate the heuristic value\n",
        "heuristic_value = manhattan_distance(initial_state, goal_state)\n",
        "\n",
        "# Print the result\n",
        "print(\"Heuristic Value:\", heuristic_value)\n"
      ]
    },
    {
      "cell_type": "code",
      "source": [
        "from google.colab import drive\n",
        "drive.mount('/content/drive')"
      ],
      "metadata": {
        "id": "jCSG9E2cCt9W"
      },
      "execution_count": null,
      "outputs": []
    }
  ]
}